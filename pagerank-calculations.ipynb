{
 "cells": [
  {
   "cell_type": "code",
   "execution_count": 29,
   "metadata": {
    "collapsed": false
   },
   "outputs": [
    {
     "name": "stdout",
     "output_type": "stream",
     "text": [
      "M =  [[ 0.0375      0.32083333  0.4625      0.0375    ]\n",
      " [ 0.4625      0.0375      0.0375      0.8875    ]\n",
      " [ 0.0375      0.32083333  0.0375      0.0375    ]\n",
      " [ 0.4625      0.32083333  0.4625      0.0375    ]]\n",
      "[[ 1.          0.20207834]\n",
      " [ 2.          0.36815068]\n",
      " [ 3.          0.14180936]\n",
      " [ 4.          0.28796163]]\n"
     ]
    }
   ],
   "source": [
    "\"\"\" Varun Kumar and Marco Groenendaal\n",
    "    October 5, 2015\n",
    "    APMA E4093 Senior Seminar Presentation - PageRank\n",
    "    Prof. Chris Wiggins\n",
    "\n",
    "    This code is intended only for the purposes of presentation during the Fall 2015 semester of APMA E4903.\n",
    "    This code is adapted from http://glowingpython.blogspot.com/2011/05/four-ways-to-compute-google-pagerank.html.\"\"\"\n",
    "\n",
    "from numpy import *\n",
    "\n",
    "def getM(A,m,n):\n",
    "    S = ones((n,n))/n\n",
    "    return (1-m)*A + m*S\n",
    "\n",
    "def powerMethod(A,x0,k):\n",
    "    for i in range(0,k):\n",
    "        x0 = dot(A,x0)\n",
    "    return x0\n",
    "\n",
    "A = array([[0, 1/3., 1/2., 0],\n",
    "           [1/2., 0, 0, 1.],\n",
    "           [0, 1/3., 0, 0],\n",
    "           [1/2., 1/3., 1/2., 0]])\n",
    "\n",
    "n = A.shape[1]\n",
    "m = 0.15\n",
    "M = getM(A,m,n)\n",
    "\n",
    "x0 = [1.0/n]*n\n",
    "x1 = powerMethod(M,x0,400)\n",
    "\n",
    "labels = range(1,5)\n",
    "print \"M = \", M\n",
    "print array([labels, x1]).T"
   ]
  },
  {
   "cell_type": "code",
   "execution_count": null,
   "metadata": {
    "collapsed": true
   },
   "outputs": [],
   "source": []
  },
  {
   "cell_type": "code",
   "execution_count": null,
   "metadata": {
    "collapsed": true
   },
   "outputs": [],
   "source": []
  },
  {
   "cell_type": "code",
   "execution_count": null,
   "metadata": {
    "collapsed": true
   },
   "outputs": [],
   "source": []
  }
 ],
 "metadata": {
  "kernelspec": {
   "display_name": "Python 2",
   "language": "python",
   "name": "python2"
  },
  "language_info": {
   "codemirror_mode": {
    "name": "ipython",
    "version": 2
   },
   "file_extension": ".py",
   "mimetype": "text/x-python",
   "name": "python",
   "nbconvert_exporter": "python",
   "pygments_lexer": "ipython2",
   "version": "2.7.11"
  }
 },
 "nbformat": 4,
 "nbformat_minor": 0
}
